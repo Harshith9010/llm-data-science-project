{
 "cells": [
  {
   "cell_type": "code",
   "execution_count": 1,
   "id": "bee44a00-78bf-4f56-b5dc-1fbbb72ac1c8",
   "metadata": {},
   "outputs": [
    {
     "name": "stdout",
     "output_type": "stream",
     "text": [
      "Requirement already satisfied: groq==0.30.0 in c:\\users\\lenovo\\appdata\\local\\programs\\python\\python313\\lib\\site-packages (0.30.0)\n",
      "Requirement already satisfied: anyio<5,>=3.5.0 in c:\\users\\lenovo\\appdata\\local\\programs\\python\\python313\\lib\\site-packages (from groq==0.30.0) (4.9.0)\n",
      "Requirement already satisfied: distro<2,>=1.7.0 in c:\\users\\lenovo\\appdata\\local\\programs\\python\\python313\\lib\\site-packages (from groq==0.30.0) (1.9.0)\n",
      "Requirement already satisfied: httpx<1,>=0.23.0 in c:\\users\\lenovo\\appdata\\local\\programs\\python\\python313\\lib\\site-packages (from groq==0.30.0) (0.28.1)\n",
      "Requirement already satisfied: pydantic<3,>=1.9.0 in c:\\users\\lenovo\\appdata\\local\\programs\\python\\python313\\lib\\site-packages (from groq==0.30.0) (2.11.6)\n",
      "Requirement already satisfied: sniffio in c:\\users\\lenovo\\appdata\\local\\programs\\python\\python313\\lib\\site-packages (from groq==0.30.0) (1.3.1)\n",
      "Requirement already satisfied: typing-extensions<5,>=4.10 in c:\\users\\lenovo\\appdata\\local\\programs\\python\\python313\\lib\\site-packages (from groq==0.30.0) (4.12.2)\n",
      "Requirement already satisfied: idna>=2.8 in c:\\users\\lenovo\\appdata\\local\\programs\\python\\python313\\lib\\site-packages (from anyio<5,>=3.5.0->groq==0.30.0) (3.10)\n",
      "Requirement already satisfied: certifi in c:\\users\\lenovo\\appdata\\local\\programs\\python\\python313\\lib\\site-packages (from httpx<1,>=0.23.0->groq==0.30.0) (2025.4.26)\n",
      "Requirement already satisfied: httpcore==1.* in c:\\users\\lenovo\\appdata\\local\\programs\\python\\python313\\lib\\site-packages (from httpx<1,>=0.23.0->groq==0.30.0) (1.0.9)\n",
      "Requirement already satisfied: h11>=0.16 in c:\\users\\lenovo\\appdata\\local\\programs\\python\\python313\\lib\\site-packages (from httpcore==1.*->httpx<1,>=0.23.0->groq==0.30.0) (0.16.0)\n",
      "Requirement already satisfied: annotated-types>=0.6.0 in c:\\users\\lenovo\\appdata\\local\\programs\\python\\python313\\lib\\site-packages (from pydantic<3,>=1.9.0->groq==0.30.0) (0.7.0)\n",
      "Requirement already satisfied: pydantic-core==2.33.2 in c:\\users\\lenovo\\appdata\\local\\programs\\python\\python313\\lib\\site-packages (from pydantic<3,>=1.9.0->groq==0.30.0) (2.33.2)\n",
      "Requirement already satisfied: typing-inspection>=0.4.0 in c:\\users\\lenovo\\appdata\\local\\programs\\python\\python313\\lib\\site-packages (from pydantic<3,>=1.9.0->groq==0.30.0) (0.4.1)\n"
     ]
    }
   ],
   "source": [
    "!pip install groq==0.30.0"
   ]
  },
  {
   "cell_type": "code",
   "execution_count": 2,
   "id": "73680405-d875-46ac-83cb-97bfd4966cbb",
   "metadata": {},
   "outputs": [],
   "source": [
    "import os"
   ]
  },
  {
   "cell_type": "code",
   "execution_count": 3,
   "id": "691770e5-6873-421d-a8ca-fb2545386618",
   "metadata": {},
   "outputs": [],
   "source": [
    "os.environ[\"GRAQ_API_KEY\"] = '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'"
   ]
  },
  {
   "cell_type": "code",
   "execution_count": 4,
   "id": "1143f7ec-2d82-46ac-9cf9-4686761f47a6",
   "metadata": {},
   "outputs": [],
   "source": [
    "from groq import Groq"
   ]
  },
  {
   "cell_type": "code",
   "execution_count": 5,
   "id": "a4c1c0e4-f0fa-44cd-99b9-3d74fd6f0988",
   "metadata": {},
   "outputs": [],
   "source": [
    "API_KEY = \"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\"\n",
    "BASE_URL = 'https://api.groq.com/'"
   ]
  },
  {
   "cell_type": "code",
   "execution_count": 6,
   "id": "7d91e80e-8b59-4ee6-87f1-03d9598fb87f",
   "metadata": {},
   "outputs": [],
   "source": [
    "client = Groq(api_key = API_KEY,\n",
    "  base_url = BASE_URL)"
   ]
  },
  {
   "cell_type": "code",
   "execution_count": 11,
   "id": "be157b95-23ff-42aa-a187-41ef1b1cda99",
   "metadata": {},
   "outputs": [],
   "source": [
    "response = client.chat.completions.create(\n",
    "    messages =[\n",
    "        {\"role\": \"user\", \"content\" :\"tell me about Telangana\"}\n",
    "    ],\n",
    "    model=\"llama-3.1-8b-instant\"\n",
    ")"
   ]
  },
  {
   "cell_type": "code",
   "execution_count": 12,
   "id": "b2c1bf6e-bb72-47f0-a29f-55cef853b9a3",
   "metadata": {},
   "outputs": [
    {
     "data": {
      "text/plain": [
       "ChatCompletion(id='chatcmpl-71e7fb09-bd1e-4d07-93f6-bd83c0a2df7e', choices=[Choice(finish_reason='stop', index=0, logprobs=None, message=ChatCompletionMessage(content='Telangana is a state located in the southern part of India. It was formed on June 2, 2014, after being separated from the state of Andhra Pradesh. Here are some key facts about Telangana:\\n\\n** Geography and Climate **\\n\\nTelangana has a diverse geography, with the Nizam Sagar Lake, the largest man-made lake in India, and the Godavari River, one of the longest rivers in India, flowing through the state. The Deccan Plateau covers most of Telangana, with hills, valleys, and plains.\\n\\nThe climate is generally hot and dry in summer, with temperatures often reaching 45°C (113°F), while winters are mild and pleasant.\\n\\n** Economy **\\n\\nTelangana has a growing economy, driven by various industries, including:\\n\\n1. **IT and ITES**: Telangana is a significant hub for the information technology (IT) and information technology-enabled services (ITES) sector, with companies like Microsoft, Google, and Amazon having operations in the state.\\n2. **Pharmaceuticals**: Telangana is home to several pharmaceutical companies, including some of the biggest players in the industry.\\n3. **Agriculture**: The state is a major producer of rice, cotton, and sugarcane, with the Godavari River supporting agriculture.\\n4. **Tourism**: Telangana has a rich cultural heritage, with historical monuments, temples, and natural attractions like the Ramoji Film City.\\n\\n** Culture and History **\\n\\nTelangana has a rich cultural heritage, with a blend of Telugu, Marathi, and Islamic influences. The state is home to:\\n\\n1. **Charminar**: A historic monument in Hyderabad that dates back to the 16th century.\\n2. **Salar Jung Museum**: A museum in Hyderabad that showcases art and artifacts from around the world.\\n3. **Golconda Fort**: A Mughal-era fort that was once the capital of the Telangana region.\\n4. **Ramappa Temple**: A UNESCO World Heritage Site, known for its unique temple architecture.\\n\\n** Language and People **\\n\\nThe official language of Telangana is Telugu, but other languages like Urdu, Marathi, and Hindi are also widely spoken. The people of Telangana are known for their hospitality and warm welcomes.\\n\\n** Important Cities **\\n\\n1. **Hyderabad**: The capital and largest city of Telangana, known for its IT industry, historical monuments, and delicious cuisine.\\n2. **Warangal**: A major city in Telangana, known for its historical monuments and cultural festivals.\\n3. **Khammam**: A city in Telangana, known for its natural attractions and temples.\\n\\nOverall, Telangana is a state with a rich history, diverse culture, and a growing economy.', role='assistant', executed_tools=None, function_call=None, reasoning=None, tool_calls=None))], created=1753682865, model='llama-3.1-8b-instant', object='chat.completion', system_fingerprint='fp_c523237e5d', usage=CompletionUsage(completion_tokens=579, prompt_tokens=41, total_tokens=620, completion_time=1.327131741, prompt_time=0.002882399, queue_time=0.049511796999999996, total_time=1.33001414), usage_breakdown=None, x_groq={'id': 'req_01k17t9v80e7d8sst7vy17x3gd'}, service_tier='on_demand')"
      ]
     },
     "execution_count": 12,
     "metadata": {},
     "output_type": "execute_result"
    }
   ],
   "source": [
    "response"
   ]
  },
  {
   "cell_type": "code",
   "execution_count": 13,
   "id": "09a25eee-ae73-4f8e-8c9c-475be7624a8f",
   "metadata": {},
   "outputs": [],
   "source": [
    "output= response.choices[0].message.content"
   ]
  },
  {
   "cell_type": "code",
   "execution_count": 14,
   "id": "4aced307-42b0-4b47-b93e-f741b1409e59",
   "metadata": {},
   "outputs": [
    {
     "name": "stdout",
     "output_type": "stream",
     "text": [
      "Telangana is a state located in the southern part of India. It was formed on June 2, 2014, after being separated from the state of Andhra Pradesh. Here are some key facts about Telangana:\n",
      "\n",
      "** Geography and Climate **\n",
      "\n",
      "Telangana has a diverse geography, with the Nizam Sagar Lake, the largest man-made lake in India, and the Godavari River, one of the longest rivers in India, flowing through the state. The Deccan Plateau covers most of Telangana, with hills, valleys, and plains.\n",
      "\n",
      "The climate is generally hot and dry in summer, with temperatures often reaching 45°C (113°F), while winters are mild and pleasant.\n",
      "\n",
      "** Economy **\n",
      "\n",
      "Telangana has a growing economy, driven by various industries, including:\n",
      "\n",
      "1. **IT and ITES**: Telangana is a significant hub for the information technology (IT) and information technology-enabled services (ITES) sector, with companies like Microsoft, Google, and Amazon having operations in the state.\n",
      "2. **Pharmaceuticals**: Telangana is home to several pharmaceutical companies, including some of the biggest players in the industry.\n",
      "3. **Agriculture**: The state is a major producer of rice, cotton, and sugarcane, with the Godavari River supporting agriculture.\n",
      "4. **Tourism**: Telangana has a rich cultural heritage, with historical monuments, temples, and natural attractions like the Ramoji Film City.\n",
      "\n",
      "** Culture and History **\n",
      "\n",
      "Telangana has a rich cultural heritage, with a blend of Telugu, Marathi, and Islamic influences. The state is home to:\n",
      "\n",
      "1. **Charminar**: A historic monument in Hyderabad that dates back to the 16th century.\n",
      "2. **Salar Jung Museum**: A museum in Hyderabad that showcases art and artifacts from around the world.\n",
      "3. **Golconda Fort**: A Mughal-era fort that was once the capital of the Telangana region.\n",
      "4. **Ramappa Temple**: A UNESCO World Heritage Site, known for its unique temple architecture.\n",
      "\n",
      "** Language and People **\n",
      "\n",
      "The official language of Telangana is Telugu, but other languages like Urdu, Marathi, and Hindi are also widely spoken. The people of Telangana are known for their hospitality and warm welcomes.\n",
      "\n",
      "** Important Cities **\n",
      "\n",
      "1. **Hyderabad**: The capital and largest city of Telangana, known for its IT industry, historical monuments, and delicious cuisine.\n",
      "2. **Warangal**: A major city in Telangana, known for its historical monuments and cultural festivals.\n",
      "3. **Khammam**: A city in Telangana, known for its natural attractions and temples.\n",
      "\n",
      "Overall, Telangana is a state with a rich history, diverse culture, and a growing economy.\n"
     ]
    }
   ],
   "source": [
    "print(output)"
   ]
  },
  {
   "cell_type": "markdown",
   "id": "7f598643-4421-4b51-9295-4c7cab8000ce",
   "metadata": {},
   "source": [
    "# LANGCHAIN"
   ]
  },
  {
   "cell_type": "code",
   "execution_count": 15,
   "id": "3226f8da-8d94-4775-9b0a-07caa45fcbf9",
   "metadata": {},
   "outputs": [
    {
     "name": "stdout",
     "output_type": "stream",
     "text": [
      "Requirement already satisfied: langchain-groq==0.3.6 in c:\\users\\lenovo\\appdata\\local\\programs\\python\\python313\\lib\\site-packages (0.3.6)\n",
      "Requirement already satisfied: langchain-core<1.0.0,>=0.3.68 in c:\\users\\lenovo\\appdata\\local\\programs\\python\\python313\\lib\\site-packages (from langchain-groq==0.3.6) (0.3.72)\n",
      "Requirement already satisfied: groq<1,>=0.29.0 in c:\\users\\lenovo\\appdata\\local\\programs\\python\\python313\\lib\\site-packages (from langchain-groq==0.3.6) (0.30.0)\n",
      "Requirement already satisfied: anyio<5,>=3.5.0 in c:\\users\\lenovo\\appdata\\local\\programs\\python\\python313\\lib\\site-packages (from groq<1,>=0.29.0->langchain-groq==0.3.6) (4.9.0)\n",
      "Requirement already satisfied: distro<2,>=1.7.0 in c:\\users\\lenovo\\appdata\\local\\programs\\python\\python313\\lib\\site-packages (from groq<1,>=0.29.0->langchain-groq==0.3.6) (1.9.0)\n",
      "Requirement already satisfied: httpx<1,>=0.23.0 in c:\\users\\lenovo\\appdata\\local\\programs\\python\\python313\\lib\\site-packages (from groq<1,>=0.29.0->langchain-groq==0.3.6) (0.28.1)\n",
      "Requirement already satisfied: pydantic<3,>=1.9.0 in c:\\users\\lenovo\\appdata\\local\\programs\\python\\python313\\lib\\site-packages (from groq<1,>=0.29.0->langchain-groq==0.3.6) (2.11.6)\n",
      "Requirement already satisfied: sniffio in c:\\users\\lenovo\\appdata\\local\\programs\\python\\python313\\lib\\site-packages (from groq<1,>=0.29.0->langchain-groq==0.3.6) (1.3.1)\n",
      "Requirement already satisfied: typing-extensions<5,>=4.10 in c:\\users\\lenovo\\appdata\\local\\programs\\python\\python313\\lib\\site-packages (from groq<1,>=0.29.0->langchain-groq==0.3.6) (4.12.2)\n",
      "Requirement already satisfied: idna>=2.8 in c:\\users\\lenovo\\appdata\\local\\programs\\python\\python313\\lib\\site-packages (from anyio<5,>=3.5.0->groq<1,>=0.29.0->langchain-groq==0.3.6) (3.10)\n",
      "Requirement already satisfied: certifi in c:\\users\\lenovo\\appdata\\local\\programs\\python\\python313\\lib\\site-packages (from httpx<1,>=0.23.0->groq<1,>=0.29.0->langchain-groq==0.3.6) (2025.4.26)\n",
      "Requirement already satisfied: httpcore==1.* in c:\\users\\lenovo\\appdata\\local\\programs\\python\\python313\\lib\\site-packages (from httpx<1,>=0.23.0->groq<1,>=0.29.0->langchain-groq==0.3.6) (1.0.9)\n",
      "Requirement already satisfied: h11>=0.16 in c:\\users\\lenovo\\appdata\\local\\programs\\python\\python313\\lib\\site-packages (from httpcore==1.*->httpx<1,>=0.23.0->groq<1,>=0.29.0->langchain-groq==0.3.6) (0.16.0)\n",
      "Requirement already satisfied: langsmith>=0.3.45 in c:\\users\\lenovo\\appdata\\local\\programs\\python\\python313\\lib\\site-packages (from langchain-core<1.0.0,>=0.3.68->langchain-groq==0.3.6) (0.4.8)\n",
      "Requirement already satisfied: tenacity!=8.4.0,<10.0.0,>=8.1.0 in c:\\users\\lenovo\\appdata\\local\\programs\\python\\python313\\lib\\site-packages (from langchain-core<1.0.0,>=0.3.68->langchain-groq==0.3.6) (9.1.2)\n",
      "Requirement already satisfied: jsonpatch<2.0,>=1.33 in c:\\users\\lenovo\\appdata\\local\\programs\\python\\python313\\lib\\site-packages (from langchain-core<1.0.0,>=0.3.68->langchain-groq==0.3.6) (1.33)\n",
      "Requirement already satisfied: PyYAML>=5.3 in c:\\users\\lenovo\\appdata\\local\\programs\\python\\python313\\lib\\site-packages (from langchain-core<1.0.0,>=0.3.68->langchain-groq==0.3.6) (6.0.2)\n",
      "Requirement already satisfied: packaging>=23.2 in c:\\users\\lenovo\\appdata\\local\\programs\\python\\python313\\lib\\site-packages (from langchain-core<1.0.0,>=0.3.68->langchain-groq==0.3.6) (25.0)\n",
      "Requirement already satisfied: jsonpointer>=1.9 in c:\\users\\lenovo\\appdata\\local\\programs\\python\\python313\\lib\\site-packages (from jsonpatch<2.0,>=1.33->langchain-core<1.0.0,>=0.3.68->langchain-groq==0.3.6) (3.0.0)\n",
      "Requirement already satisfied: annotated-types>=0.6.0 in c:\\users\\lenovo\\appdata\\local\\programs\\python\\python313\\lib\\site-packages (from pydantic<3,>=1.9.0->groq<1,>=0.29.0->langchain-groq==0.3.6) (0.7.0)\n",
      "Requirement already satisfied: pydantic-core==2.33.2 in c:\\users\\lenovo\\appdata\\local\\programs\\python\\python313\\lib\\site-packages (from pydantic<3,>=1.9.0->groq<1,>=0.29.0->langchain-groq==0.3.6) (2.33.2)\n",
      "Requirement already satisfied: typing-inspection>=0.4.0 in c:\\users\\lenovo\\appdata\\local\\programs\\python\\python313\\lib\\site-packages (from pydantic<3,>=1.9.0->groq<1,>=0.29.0->langchain-groq==0.3.6) (0.4.1)\n",
      "Requirement already satisfied: orjson<4.0.0,>=3.9.14 in c:\\users\\lenovo\\appdata\\local\\programs\\python\\python313\\lib\\site-packages (from langsmith>=0.3.45->langchain-core<1.0.0,>=0.3.68->langchain-groq==0.3.6) (3.11.1)\n",
      "Requirement already satisfied: requests<3,>=2 in c:\\users\\lenovo\\appdata\\local\\programs\\python\\python313\\lib\\site-packages (from langsmith>=0.3.45->langchain-core<1.0.0,>=0.3.68->langchain-groq==0.3.6) (2.32.4)\n",
      "Requirement already satisfied: requests-toolbelt<2.0.0,>=1.0.0 in c:\\users\\lenovo\\appdata\\local\\programs\\python\\python313\\lib\\site-packages (from langsmith>=0.3.45->langchain-core<1.0.0,>=0.3.68->langchain-groq==0.3.6) (1.0.0)\n",
      "Requirement already satisfied: zstandard<0.24.0,>=0.23.0 in c:\\users\\lenovo\\appdata\\local\\programs\\python\\python313\\lib\\site-packages (from langsmith>=0.3.45->langchain-core<1.0.0,>=0.3.68->langchain-groq==0.3.6) (0.23.0)\n",
      "Requirement already satisfied: charset_normalizer<4,>=2 in c:\\users\\lenovo\\appdata\\local\\programs\\python\\python313\\lib\\site-packages (from requests<3,>=2->langsmith>=0.3.45->langchain-core<1.0.0,>=0.3.68->langchain-groq==0.3.6) (3.4.2)\n",
      "Requirement already satisfied: urllib3<3,>=1.21.1 in c:\\users\\lenovo\\appdata\\local\\programs\\python\\python313\\lib\\site-packages (from requests<3,>=2->langsmith>=0.3.45->langchain-core<1.0.0,>=0.3.68->langchain-groq==0.3.6) (2.4.0)\n"
     ]
    }
   ],
   "source": [
    "!pip install langchain-groq==0.3.6"
   ]
  },
  {
   "cell_type": "code",
   "execution_count": 16,
   "id": "6daf6ada-0f5c-4281-9c04-663f8bf1b8d6",
   "metadata": {},
   "outputs": [],
   "source": [
    "import os"
   ]
  },
  {
   "cell_type": "code",
   "execution_count": 17,
   "id": "d31ff6ed-254d-4b1b-8552-3696d9319e09",
   "metadata": {},
   "outputs": [],
   "source": [
    "os.environ[\"GRAQ_API_KEY\"] = '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'"
   ]
  },
  {
   "cell_type": "code",
   "execution_count": 18,
   "id": "8aa6ba22-118c-4522-8551-9f5129fc496e",
   "metadata": {},
   "outputs": [],
   "source": [
    "from langchain_groq import ChatGroq"
   ]
  },
  {
   "cell_type": "code",
   "execution_count": 19,
   "id": "25359e1a-6cf7-4c89-b377-1f0899b80a7b",
   "metadata": {},
   "outputs": [],
   "source": [
    "llm= ChatGroq(\n",
    "    model = \"llama-3.1-8b-instant\",\n",
    "    temperature=0,\n",
    "    groq_api_key=\"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\"\n",
    ")"
   ]
  },
  {
   "cell_type": "code",
   "execution_count": 20,
   "id": "af1a0fc0-6ec6-4ce5-8b0f-8e6a1a8643d7",
   "metadata": {},
   "outputs": [],
   "source": [
    "response =llm.invoke(\"print odd numbers\")"
   ]
  },
  {
   "cell_type": "code",
   "execution_count": 21,
   "id": "75ff712c-8de0-45bb-9e15-e3e0e3d4c2ad",
   "metadata": {},
   "outputs": [
    {
     "data": {
      "text/plain": [
       "AIMessage(content=\"**Printing Odd Numbers**\\n\\nHere's a simple Python code snippet that prints odd numbers from 1 to 20:\\n\\n```python\\n# Loop through numbers from 1 to 20\\nfor i in range(1, 21):\\n    # Check if the number is odd\\n    if i % 2 != 0:\\n        # Print the odd number\\n        print(i)\\n```\\n\\n**Explanation:**\\n\\n1. We use a `for` loop to iterate through numbers from 1 to 20 (inclusive).\\n2. Inside the loop, we use the modulo operator (`%`) to check if the current number `i` is odd. If `i % 2 != 0`, it means `i` is odd.\\n3. If `i` is odd, we print it.\\n\\n**Alternative Solution:**\\n\\nYou can also use a list comprehension to generate a list of odd numbers and then print it:\\n\\n```python\\n# Generate a list of odd numbers from 1 to 20\\nodd_numbers = [i for i in range(1, 21) if i % 2 != 0]\\n\\n# Print the list of odd numbers\\nprint(odd_numbers)\\n```\\n\\n**Example Output:**\\n\\n```\\n1\\n3\\n5\\n7\\n9\\n11\\n13\\n15\\n17\\n19\\n```\", additional_kwargs={}, response_metadata={'token_usage': {'completion_tokens': 271, 'prompt_tokens': 38, 'total_tokens': 309, 'completion_time': 0.596381966, 'prompt_time': 0.633183658, 'queue_time': 0.326345133, 'total_time': 1.229565624}, 'model_name': 'llama-3.1-8b-instant', 'system_fingerprint': 'fp_c523237e5d', 'service_tier': 'on_demand', 'finish_reason': 'stop', 'logprobs': None}, id='run--dda7df55-e9c3-4987-91ce-8c0dfca50b98-0', usage_metadata={'input_tokens': 38, 'output_tokens': 271, 'total_tokens': 309})"
      ]
     },
     "execution_count": 21,
     "metadata": {},
     "output_type": "execute_result"
    }
   ],
   "source": [
    "response"
   ]
  },
  {
   "cell_type": "code",
   "execution_count": 22,
   "id": "6dfc801d-e921-4cdb-a547-a54e61e3ec30",
   "metadata": {},
   "outputs": [],
   "source": [
    "output= response.content"
   ]
  },
  {
   "cell_type": "code",
   "execution_count": 23,
   "id": "0d020165-1141-4688-855a-2d91ba1848a2",
   "metadata": {},
   "outputs": [
    {
     "name": "stdout",
     "output_type": "stream",
     "text": [
      "**Printing Odd Numbers**\n",
      "\n",
      "Here's a simple Python code snippet that prints odd numbers from 1 to 20:\n",
      "\n",
      "```python\n",
      "# Loop through numbers from 1 to 20\n",
      "for i in range(1, 21):\n",
      "    # Check if the number is odd\n",
      "    if i % 2 != 0:\n",
      "        # Print the odd number\n",
      "        print(i)\n",
      "```\n",
      "\n",
      "**Explanation:**\n",
      "\n",
      "1. We use a `for` loop to iterate through numbers from 1 to 20 (inclusive).\n",
      "2. Inside the loop, we use the modulo operator (`%`) to check if the current number `i` is odd. If `i % 2 != 0`, it means `i` is odd.\n",
      "3. If `i` is odd, we print it.\n",
      "\n",
      "**Alternative Solution:**\n",
      "\n",
      "You can also use a list comprehension to generate a list of odd numbers and then print it:\n",
      "\n",
      "```python\n",
      "# Generate a list of odd numbers from 1 to 20\n",
      "odd_numbers = [i for i in range(1, 21) if i % 2 != 0]\n",
      "\n",
      "# Print the list of odd numbers\n",
      "print(odd_numbers)\n",
      "```\n",
      "\n",
      "**Example Output:**\n",
      "\n",
      "```\n",
      "1\n",
      "3\n",
      "5\n",
      "7\n",
      "9\n",
      "11\n",
      "13\n",
      "15\n",
      "17\n",
      "19\n",
      "```\n"
     ]
    }
   ],
   "source": [
    "print(output)"
   ]
  },
  {
   "cell_type": "code",
   "execution_count": null,
   "id": "903a36a4-99c6-47a1-a6ff-18cc7bd55629",
   "metadata": {},
   "outputs": [],
   "source": []
  }
 ],
 "metadata": {
  "kernelspec": {
   "display_name": "Python 3 (ipykernel)",
   "language": "python",
   "name": "python3"
  },
  "language_info": {
   "codemirror_mode": {
    "name": "ipython",
    "version": 3
   },
   "file_extension": ".py",
   "mimetype": "text/x-python",
   "name": "python",
   "nbconvert_exporter": "python",
   "pygments_lexer": "ipython3",
   "version": "3.13.5"
  }
 },
 "nbformat": 4,
 "nbformat_minor": 5
}
